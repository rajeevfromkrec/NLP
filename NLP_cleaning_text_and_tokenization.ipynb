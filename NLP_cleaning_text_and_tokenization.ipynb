{
  "nbformat": 4,
  "nbformat_minor": 0,
  "metadata": {
    "colab": {
      "name": "NLP cleaning text and tokenization.ipynb",
      "provenance": [],
      "authorship_tag": "ABX9TyMfFnB8W7C8q+gImjmK9Olm",
      "include_colab_link": true
    },
    "kernelspec": {
      "name": "python3",
      "display_name": "Python 3"
    }
  },
  "cells": [
    {
      "cell_type": "markdown",
      "metadata": {
        "id": "view-in-github",
        "colab_type": "text"
      },
      "source": [
        "<a href=\"https://colab.research.google.com/github/rajeevfromkrec/NLP/blob/master/NLP_cleaning_text_and_tokenization.ipynb\" target=\"_parent\"><img src=\"https://colab.research.google.com/assets/colab-badge.svg\" alt=\"Open In Colab\"/></a>"
      ]
    },
    {
      "cell_type": "code",
      "metadata": {
        "id": "NOsMFFI_g6w9",
        "colab_type": "code",
        "colab": {
          "base_uri": "https://localhost:8080/",
          "height": 204
        },
        "outputId": "c1db967a-8b82-4999-f8c3-78487fb6c574"
      },
      "source": [
        "!wget http://www.gutenberg.org/cache/epub/5200/pg5200.txt"
      ],
      "execution_count": 1,
      "outputs": [
        {
          "output_type": "stream",
          "text": [
            "--2020-06-06 02:47:15--  http://www.gutenberg.org/cache/epub/5200/pg5200.txt\n",
            "Resolving www.gutenberg.org (www.gutenberg.org)... 152.19.134.47, 2610:28:3090:3000:0:bad:cafe:47\n",
            "Connecting to www.gutenberg.org (www.gutenberg.org)|152.19.134.47|:80... connected.\n",
            "HTTP request sent, awaiting response... 200 OK\n",
            "Length: 141420 (138K) [text/plain]\n",
            "Saving to: ‘pg5200.txt’\n",
            "\n",
            "\rpg5200.txt            0%[                    ]       0  --.-KB/s               \rpg5200.txt          100%[===================>] 138.11K   822KB/s    in 0.2s    \n",
            "\n",
            "2020-06-06 02:47:15 (822 KB/s) - ‘pg5200.txt’ saved [141420/141420]\n",
            "\n"
          ],
          "name": "stdout"
        }
      ]
    },
    {
      "cell_type": "code",
      "metadata": {
        "id": "rIpe9vG9hhqB",
        "colab_type": "code",
        "colab": {
          "base_uri": "https://localhost:8080/",
          "height": 34
        },
        "outputId": "92a6a05b-4621-4a93-ee08-d66e507b0a8c"
      },
      "source": [
        "!ls"
      ],
      "execution_count": 2,
      "outputs": [
        {
          "output_type": "stream",
          "text": [
            "pg5200.txt  sample_data\n"
          ],
          "name": "stdout"
        }
      ]
    },
    {
      "cell_type": "code",
      "metadata": {
        "id": "HyfiYdctjaUB",
        "colab_type": "code",
        "colab": {
          "base_uri": "https://localhost:8080/",
          "height": 34
        },
        "outputId": "75ade154-8c8a-4af6-eadb-3dc6b37343a5"
      },
      "source": [
        "print(string.punctuation)"
      ],
      "execution_count": 11,
      "outputs": [
        {
          "output_type": "stream",
          "text": [
            "!\"#$%&'()*+,-./:;<=>?@[\\]^_`{|}~\n"
          ],
          "name": "stdout"
        }
      ]
    },
    {
      "cell_type": "code",
      "metadata": {
        "id": "Nb77hwnSjE8U",
        "colab_type": "code",
        "colab": {}
      },
      "source": [
        "import re\n",
        "import string"
      ],
      "execution_count": 0,
      "outputs": []
    },
    {
      "cell_type": "code",
      "metadata": {
        "id": "EElbVzGUh3-4",
        "colab_type": "code",
        "colab": {}
      },
      "source": [
        "with open('pg5200.txt','rt') as file:\n",
        "  text=file.read()\n",
        "  word=text.split()\n",
        "  words=re.split(r'\\W+',text)\n",
        "  punc=re.compile('[%s]'% re.escape(string.punctuation))\n",
        "  stripped=[re.sub(punc, '', w) for w in words]\n",
        "  stripped=[w.lower() for w in stripped]\n",
        "stripped[:50]"
      ],
      "execution_count": 0,
      "outputs": []
    },
    {
      "cell_type": "code",
      "metadata": {
        "id": "iCkmPN2SiP3T",
        "colab_type": "code",
        "colab": {}
      },
      "source": [
        ""
      ],
      "execution_count": 0,
      "outputs": []
    }
  ]
}
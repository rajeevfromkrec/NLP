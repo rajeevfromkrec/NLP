{
  "nbformat": 4,
  "nbformat_minor": 0,
  "metadata": {
    "colab": {
      "name": "Project-4.ipynb",
      "provenance": [],
      "authorship_tag": "ABX9TyN0XeaT0tKPWNx2dhUcPTqA",
      "include_colab_link": true
    },
    "kernelspec": {
      "name": "python3",
      "display_name": "Python 3"
    }
  },
  "cells": [
    {
      "cell_type": "markdown",
      "metadata": {
        "id": "view-in-github",
        "colab_type": "text"
      },
      "source": [
        "<a href=\"https://colab.research.google.com/github/rajeevfromkrec/NLP/blob/master/Regular%20expression%20final.ipynb\" target=\"_parent\"><img src=\"https://colab.research.google.com/assets/colab-badge.svg\" alt=\"Open In Colab\"/></a>"
      ]
    },
    {
      "cell_type": "code",
      "metadata": {
        "id": "RwLeCRfHn8ou",
        "colab_type": "code",
        "colab": {}
      },
      "source": [
        "import re"
      ],
      "execution_count": 1,
      "outputs": []
    },
    {
      "cell_type": "code",
      "metadata": {
        "id": "Q37c1NEJw-Os",
        "colab_type": "code",
        "colab": {}
      },
      "source": [
        "text_to_search = '''\n",
        "\n",
        "ADIDSAOKLSA;SK\n",
        "ajfddkfdskabcoewjewdkdssd\n",
        "\n",
        "2628-9uq99432-9798202\n",
        "\n",
        "2113731-8311938-311381\n",
        "\n",
        "123.345.5678\n",
        "606-890-7896\n",
        "\n",
        "800-890-7896\n",
        "900-890-7896\n",
        "\n",
        ":;{}[]``(),.><?\n",
        "\n",
        "wellbeing.com\n",
        "\n",
        "cat\n",
        "mat\n",
        "sat\n",
        "bat\n",
        "\n",
        "http://test.com\n",
        "\n",
        "https://gotoplay.com\n",
        "\n",
        "https://www.testonline.com\n",
        "\n",
        "https://www.hangon.edu\n",
        "\n",
        "sgyamgjjR@gmail.com\n",
        "udbdsb-uijjnj123@work.edu\n",
        "ssabhsa.yu897hbhsah@my-work.net\n",
        "\n",
        "Mr. Sumaker\n",
        "abc\n",
        "Mrs. Davis\n",
        "\n",
        "Mr Ram\n",
        "\n",
        "Mr. T\n",
        "Mr Shyam\n",
        "ha haha\n",
        "'''\n"
      ],
      "execution_count": 76,
      "outputs": []
    },
    {
      "cell_type": "code",
      "metadata": {
        "id": "XtvEw2ppxd-Y",
        "colab_type": "code",
        "colab": {
          "base_uri": "https://localhost:8080/",
          "height": 34
        },
        "outputId": "403e01f4-84cb-49b4-e559-d7da49681cc4"
      },
      "source": [
        "print(r'\\tTAB')"
      ],
      "execution_count": 19,
      "outputs": [
        {
          "output_type": "stream",
          "text": [
            "\\tTAB\n"
          ],
          "name": "stdout"
        }
      ]
    },
    {
      "cell_type": "code",
      "metadata": {
        "id": "OFvobEFexz8k",
        "colab_type": "code",
        "colab": {
          "base_uri": "https://localhost:8080/",
          "height": 85
        },
        "outputId": "45ae1002-cf4c-4f5b-9d2f-230e5f837567"
      },
      "source": [
        "sentence ='start of the sentence and end of sentence end'\n",
        "pattern= re.compile(r'\\d\\d\\d[-.]\\d\\d\\d[-.]\\d\\d\\d\\d')\n",
        "matches=pattern.finditer(text_to_search)\n",
        "for match in matches:\n",
        "  print(match)"
      ],
      "execution_count": 49,
      "outputs": [
        {
          "output_type": "stream",
          "text": [
            "<_sre.SRE_Match object; span=(91, 103), match='123.345.5678'>\n",
            "<_sre.SRE_Match object; span=(104, 116), match='606-890-7896'>\n",
            "<_sre.SRE_Match object; span=(118, 130), match='800-890-7896'>\n",
            "<_sre.SRE_Match object; span=(131, 143), match='900-890-7896'>\n"
          ],
          "name": "stdout"
        }
      ]
    },
    {
      "cell_type": "code",
      "metadata": {
        "id": "sJo3NNGbyIG1",
        "colab_type": "code",
        "colab": {
          "base_uri": "https://localhost:8080/",
          "height": 51
        },
        "outputId": "094312e4-8c2d-4fb5-b439-b8bab0affbda"
      },
      "source": [
        "sentence ='start of the sentence and end of sentence end'\n",
        "pattern= re.compile(r'[8-9]\\d\\d[-.]\\d\\d\\d[-.]\\d\\d\\d\\d')\n",
        "matches=pattern.finditer(text_to_search)\n",
        "for match in matches:\n",
        "  print(match)"
      ],
      "execution_count": 48,
      "outputs": [
        {
          "output_type": "stream",
          "text": [
            "<_sre.SRE_Match object; span=(118, 130), match='800-890-7896'>\n",
            "<_sre.SRE_Match object; span=(131, 143), match='900-890-7896'>\n"
          ],
          "name": "stdout"
        }
      ]
    },
    {
      "cell_type": "markdown",
      "metadata": {
        "id": "UdMmXw8m3CZ2",
        "colab_type": "text"
      },
      "source": [
        ". - any character except newline\n",
        "\\d - Digits(0-9)\n",
        "\\D - not a digit\n",
        "\\w- word character ( a-z , A-Z, 0-9 , _)\n",
        "\\W - not a word character\n",
        "\\s - matches whitespace, tab, newline\n",
        "\\S - opposite of \\s\n",
        "\\b - word boundary ..words which are separate of at the starting of word..\n",
        "\\B - opposite of \\b\n",
        "^ - beginning of a string\n",
        "$ - end of string\n",
        "\n",
        "\n",
        "Quantifiers\n",
        "============================\n",
        "* - 0 or more\n",
        "+ - 1 or more\n",
        "? - 0 or one\n",
        "{3}- exact number of matches\n",
        "{3,4}- Range of number matches ( min and max)\n"
      ]
    },
    {
      "cell_type": "code",
      "metadata": {
        "id": "nv9yuM_Sya45",
        "colab_type": "code",
        "colab": {
          "base_uri": "https://localhost:8080/",
          "height": 68
        },
        "outputId": "410ecf97-32ff-473a-a888-ed7d79ebb2ed"
      },
      "source": [
        "sentence ='start of the sentence and end of sentence end'\n",
        "pattern= re.compile(r'[^b]at')\n",
        "matches=pattern.finditer(text_to_search)\n",
        "for match in matches:\n",
        "  print(match)"
      ],
      "execution_count": 51,
      "outputs": [
        {
          "output_type": "stream",
          "text": [
            "<_sre.SRE_Match object; span=(177, 180), match='cat'>\n",
            "<_sre.SRE_Match object; span=(181, 184), match='mat'>\n",
            "<_sre.SRE_Match object; span=(185, 188), match='sat'>\n"
          ],
          "name": "stdout"
        }
      ]
    },
    {
      "cell_type": "code",
      "metadata": {
        "id": "Rj_UHHCdyd-6",
        "colab_type": "code",
        "colab": {
          "base_uri": "https://localhost:8080/",
          "height": 85
        },
        "outputId": "1fd6f067-0415-4e64-b26e-4a7dae711ede"
      },
      "source": [
        "sentence ='start of the sentence and end of sentence end'\n",
        "pattern= re.compile(r'\\d{3}[.-]\\d{3}[.-]\\d{4}')\n",
        "matches=pattern.finditer(text_to_search)\n",
        "for match in matches:\n",
        "  print(match)"
      ],
      "execution_count": 52,
      "outputs": [
        {
          "output_type": "stream",
          "text": [
            "<_sre.SRE_Match object; span=(91, 103), match='123.345.5678'>\n",
            "<_sre.SRE_Match object; span=(104, 116), match='606-890-7896'>\n",
            "<_sre.SRE_Match object; span=(118, 130), match='800-890-7896'>\n",
            "<_sre.SRE_Match object; span=(131, 143), match='900-890-7896'>\n"
          ],
          "name": "stdout"
        }
      ]
    },
    {
      "cell_type": "code",
      "metadata": {
        "id": "GJXd5mbLExNm",
        "colab_type": "code",
        "colab": {
          "base_uri": "https://localhost:8080/",
          "height": 102
        },
        "outputId": "6d33733e-ed03-4691-f4ad-8f47fb690a7f"
      },
      "source": [
        "sentence ='start of the sentence and end of sentence end'\n",
        "pattern= re.compile(r'M(r|rs)\\.?\\s[A-Z]\\w*')\n",
        "matches=pattern.finditer(text_to_search)\n",
        "for match in matches:\n",
        "  print(match)"
      ],
      "execution_count": 61,
      "outputs": [
        {
          "output_type": "stream",
          "text": [
            "<_sre.SRE_Match object; span=(194, 205), match='Mr. Sumaker'>\n",
            "<_sre.SRE_Match object; span=(210, 220), match='Mrs. Davis'>\n",
            "<_sre.SRE_Match object; span=(222, 228), match='Mr Ram'>\n",
            "<_sre.SRE_Match object; span=(230, 235), match='Mr. T'>\n",
            "<_sre.SRE_Match object; span=(236, 244), match='Mr Shyam'>\n"
          ],
          "name": "stdout"
        }
      ]
    },
    {
      "cell_type": "code",
      "metadata": {
        "id": "wOvXRwqpGYCU",
        "colab_type": "code",
        "colab": {
          "base_uri": "https://localhost:8080/",
          "height": 68
        },
        "outputId": "c4a3ab97-84d9-439a-e829-fce7dd83818c"
      },
      "source": [
        "sentence ='start of the sentence and end of sentence end'\n",
        "pattern= re.compile(r'[a-zA-Z0-9-]+@[a-zA-Z0-9-]+\\.(com|edu|net)')\n",
        "matches=pattern.finditer(text_to_search)\n",
        "for match in matches:\n",
        "  print(match)"
      ],
      "execution_count": 69,
      "outputs": [
        {
          "output_type": "stream",
          "text": [
            "<_sre.SRE_Match object; span=(194, 213), match='sgyamgjjR@gmail.com'>\n",
            "<_sre.SRE_Match object; span=(214, 239), match='udbdsb-uijjnj123@work.edu'>\n",
            "<_sre.SRE_Match object; span=(248, 271), match='yu897hbhsah@my-work.net'>\n"
          ],
          "name": "stdout"
        }
      ]
    },
    {
      "cell_type": "code",
      "metadata": {
        "id": "CVWEJxDgI9Dq",
        "colab_type": "code",
        "colab": {
          "base_uri": "https://localhost:8080/",
          "height": 85
        },
        "outputId": "0bfe0017-a32b-42f0-aeae-ca0046ae06eb"
      },
      "source": [
        "sentence ='start of the sentence and end of sentence end'\n",
        "pattern= re.compile(r'https?://(www.)?([a-zA-Z]+)\\.(com|edu)')\n",
        "matches=pattern.finditer(text_to_search)\n",
        "for match in matches:\n",
        "  print(match.group(0))"
      ],
      "execution_count": 91,
      "outputs": [
        {
          "output_type": "stream",
          "text": [
            "http://test.com\n",
            "https://gotoplay.com\n",
            "https://www.testonline.com\n",
            "https://www.hangon.edu\n"
          ],
          "name": "stdout"
        }
      ]
    },
    {
      "cell_type": "code",
      "metadata": {
        "id": "iJvQUGKrNLR3",
        "colab_type": "code",
        "colab": {}
      },
      "source": [
        ""
      ],
      "execution_count": null,
      "outputs": []
    }
  ]
}
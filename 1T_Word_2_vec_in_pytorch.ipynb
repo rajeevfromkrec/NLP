{
  "nbformat": 4,
  "nbformat_minor": 0,
  "metadata": {
    "colab": {
      "name": "1T Word 2 vec in pytorch.ipynb",
      "provenance": [],
      "authorship_tag": "ABX9TyNJ0L+gUH8sn52GM228oXe2",
      "include_colab_link": true
    },
    "kernelspec": {
      "name": "python3",
      "display_name": "Python 3"
    }
  },
  "cells": [
    {
      "cell_type": "markdown",
      "metadata": {
        "id": "view-in-github",
        "colab_type": "text"
      },
      "source": [
        "<a href=\"https://colab.research.google.com/github/rajeevfromkrec/NLP/blob/master/1T_Word_2_vec_in_pytorch.ipynb\" target=\"_parent\"><img src=\"https://colab.research.google.com/assets/colab-badge.svg\" alt=\"Open In Colab\"/></a>"
      ]
    },
    {
      "cell_type": "code",
      "metadata": {
        "id": "obTbeQ3grsIJ",
        "colab_type": "code",
        "colab": {}
      },
      "source": [
        "import numpy as np\n",
        "import torch\n",
        "import torch.nn as nn\n",
        "import torch.optim as optim\n",
        "import matplotlib.pyplot as plt"
      ],
      "execution_count": 1,
      "outputs": []
    },
    {
      "cell_type": "code",
      "metadata": {
        "id": "DPck4u-7r_do",
        "colab_type": "code",
        "colab": {}
      },
      "source": [
        "def random_batch():\n",
        "    random_inputs = []\n",
        "    random_labels = []\n",
        "    random_index = np.random.choice(range(len(skip_grams)), batch_size, replace=False)\n",
        "\n",
        "    for i in random_index:\n",
        "        random_inputs.append(np.eye(voc_size)[skip_grams[i][0]])  # target\n",
        "        random_labels.append(skip_grams[i][1])  # context word\n",
        "\n",
        "    return random_inputs, random_labels\n",
        "\n"
      ],
      "execution_count": 48,
      "outputs": []
    },
    {
      "cell_type": "code",
      "metadata": {
        "id": "efgdX2HU0Q93",
        "colab_type": "code",
        "colab": {}
      },
      "source": [
        "class Word2Vec(nn.Module):\n",
        "    def __init__(self):\n",
        "        super(Word2Vec, self).__init__()\n",
        "        # W and WT is not Traspose relationship\n",
        "        self.W = nn.Linear(voc_size, embedding_size, bias=False) # voc_size > embedding_size Weight\n",
        "        self.WT = nn.Linear(embedding_size, voc_size, bias=False) # embedding_size > voc_size Weight\n",
        "\n",
        "    def forward(self, X):\n",
        "        # X : [batch_size, voc_size]\n",
        "        hidden_layer = self.W(X) # hidden_layer : [batch_size, embedding_size]\n",
        "        output_layer = self.WT(hidden_layer) # output_layer : [batch_size, voc_size]\n",
        "        return output_layer\n",
        "\n",
        "\n"
      ],
      "execution_count": 52,
      "outputs": []
    },
    {
      "cell_type": "code",
      "metadata": {
        "id": "INLyM7kh1jVg",
        "colab_type": "code",
        "colab": {}
      },
      "source": [
        "batch_size=2\n",
        "embedding_size=2\n",
        "sentences = [\"apple banana fruit\", \"banana orange fruit\", \"orange banana fruit\",\n",
        "                 \"dog cat animal\", \"cat monkey animal\", \"monkey dog animal\"]"
      ],
      "execution_count": 6,
      "outputs": []
    },
    {
      "cell_type": "code",
      "metadata": {
        "id": "73IZNQxj129D",
        "colab_type": "code",
        "colab": {}
      },
      "source": [
        "word_sequence=\" \".join(sentences).split()"
      ],
      "execution_count": 16,
      "outputs": []
    },
    {
      "cell_type": "code",
      "metadata": {
        "id": "IvsndJAe2FpR",
        "colab_type": "code",
        "colab": {
          "base_uri": "https://localhost:8080/",
          "height": 340
        },
        "outputId": "9ce92f89-6463-44ba-8086-a45ea97d136a"
      },
      "source": [
        "print(type(word_sequence))\n",
        "word_sequence"
      ],
      "execution_count": 17,
      "outputs": [
        {
          "output_type": "stream",
          "text": [
            "<class 'list'>\n"
          ],
          "name": "stdout"
        },
        {
          "output_type": "execute_result",
          "data": {
            "text/plain": [
              "['apple',\n",
              " 'banana',\n",
              " 'fruit',\n",
              " 'banana',\n",
              " 'orange',\n",
              " 'fruit',\n",
              " 'orange',\n",
              " 'banana',\n",
              " 'fruit',\n",
              " 'dog',\n",
              " 'cat',\n",
              " 'animal',\n",
              " 'cat',\n",
              " 'monkey',\n",
              " 'animal',\n",
              " 'monkey',\n",
              " 'dog',\n",
              " 'animal']"
            ]
          },
          "metadata": {
            "tags": []
          },
          "execution_count": 17
        }
      ]
    },
    {
      "cell_type": "code",
      "metadata": {
        "id": "n7Usgauj2a7r",
        "colab_type": "code",
        "colab": {}
      },
      "source": [
        "word_list=\" \".join(sentences).split()\n",
        "word_list=list(set(word_list))\n",
        "word_dict={w:i for i,w in enumerate(word_list)}\n",
        "voc_size=len(word_list)"
      ],
      "execution_count": 21,
      "outputs": []
    },
    {
      "cell_type": "code",
      "metadata": {
        "id": "lHuXSi8O6PD5",
        "colab_type": "code",
        "colab": {}
      },
      "source": [
        "skip_grams=[]\n",
        "\n",
        "for i in range(1,len(word_sequence)-1):\n",
        "  target=word_dict[word_sequence[i]]\n",
        "  context=(word_dict[word_sequence[i-1]] ,word_dict[word_sequence[i+1]])\n",
        "  for w in context :\n",
        "    skip_grams.append([target,w])\n",
        "    \n",
        "  "
      ],
      "execution_count": 24,
      "outputs": []
    },
    {
      "cell_type": "code",
      "metadata": {
        "id": "9K2_5LPF-RAc",
        "colab_type": "code",
        "colab": {
          "base_uri": "https://localhost:8080/",
          "height": 187
        },
        "outputId": "6d33b03d-56de-4773-b36f-d9095d7fc005"
      },
      "source": [
        "skip_grams[:10]"
      ],
      "execution_count": 25,
      "outputs": [
        {
          "output_type": "execute_result",
          "data": {
            "text/plain": [
              "[[1, 0],\n",
              " [1, 5],\n",
              " [5, 1],\n",
              " [5, 1],\n",
              " [1, 5],\n",
              " [1, 3],\n",
              " [3, 1],\n",
              " [3, 5],\n",
              " [5, 3],\n",
              " [5, 3]]"
            ]
          },
          "metadata": {
            "tags": []
          },
          "execution_count": 25
        }
      ]
    },
    {
      "cell_type": "code",
      "metadata": {
        "id": "i1mU_CWO-xFa",
        "colab_type": "code",
        "colab": {}
      },
      "source": [
        "model=Word2Vec()"
      ],
      "execution_count": 54,
      "outputs": []
    },
    {
      "cell_type": "code",
      "metadata": {
        "id": "E6lQ9Ktl-3hq",
        "colab_type": "code",
        "colab": {
          "base_uri": "https://localhost:8080/",
          "height": 85
        },
        "outputId": "55276818-755b-4d8b-b9c7-b50e1ca1c9f3"
      },
      "source": [
        "model"
      ],
      "execution_count": 29,
      "outputs": [
        {
          "output_type": "execute_result",
          "data": {
            "text/plain": [
              "word2vec(\n",
              "  (w): Linear(in_features=8, out_features=2, bias=False)\n",
              "  (wt): Linear(in_features=2, out_features=8, bias=False)\n",
              ")"
            ]
          },
          "metadata": {
            "tags": []
          },
          "execution_count": 29
        }
      ]
    },
    {
      "cell_type": "code",
      "metadata": {
        "id": "r-PH88P3_lfH",
        "colab_type": "code",
        "colab": {}
      },
      "source": [
        "criterion=nn.CrossEntropyLoss()\n",
        "optimizer=torch.optim.Adam(model.parameters(),lr=0.001)"
      ],
      "execution_count": 31,
      "outputs": []
    },
    {
      "cell_type": "code",
      "metadata": {
        "id": "NrAzgKwY-_9t",
        "colab_type": "code",
        "colab": {
          "base_uri": "https://localhost:8080/",
          "height": 102
        },
        "outputId": "4a4a8ecf-0a9d-4f81-bfa4-428b0728b27c"
      },
      "source": [
        "for epoch in range(5000):\n",
        "  input_batch, target_batch=random_batch()\n",
        "  input_batch = torch.Tensor(input_batch)\n",
        "  target_batch = torch.LongTensor(target_batch)\n",
        "  optimizer.zero_grad()\n",
        "\n",
        "  output=model(input_batch)\n",
        "\n",
        "  loss=criterion(output,target_batch)\n",
        "  if (epoch + 1) % 1000 == 0:\n",
        "            print('Epoch:', '%04d' % (epoch + 1), 'cost =', '{:.6f}'.format(loss))\n",
        "  loss.backward()\n",
        "  optimizer.step()\n",
        "\n",
        "\n"
      ],
      "execution_count": 56,
      "outputs": [
        {
          "output_type": "stream",
          "text": [
            "Epoch: 1000 cost = 2.174676\n",
            "Epoch: 2000 cost = 2.018088\n",
            "Epoch: 3000 cost = 2.097383\n",
            "Epoch: 4000 cost = 2.184577\n",
            "Epoch: 5000 cost = 2.188621\n"
          ],
          "name": "stdout"
        }
      ]
    },
    {
      "cell_type": "code",
      "metadata": {
        "id": "QHI003zbH3M_",
        "colab_type": "code",
        "colab": {
          "base_uri": "https://localhost:8080/",
          "height": 51
        },
        "outputId": "17321c82-0dc3-483f-d757-ade0c4765b83"
      },
      "source": [
        "input_batch"
      ],
      "execution_count": 50,
      "outputs": [
        {
          "output_type": "execute_result",
          "data": {
            "text/plain": [
              "tensor([[0., 0., 0., 0., 1., 0., 0., 0.],\n",
              "        [0., 0., 1., 0., 0., 0., 0., 0.]], dtype=torch.float64)"
            ]
          },
          "metadata": {
            "tags": []
          },
          "execution_count": 50
        }
      ]
    },
    {
      "cell_type": "code",
      "metadata": {
        "id": "XN-5iqsTAfBd",
        "colab_type": "code",
        "colab": {
          "base_uri": "https://localhost:8080/",
          "height": 34
        },
        "outputId": "f0633fd5-57bc-4345-f3ce-d8aef174035b"
      },
      "source": [
        "target_batch"
      ],
      "execution_count": 51,
      "outputs": [
        {
          "output_type": "execute_result",
          "data": {
            "text/plain": [
              "tensor([2, 4])"
            ]
          },
          "metadata": {
            "tags": []
          },
          "execution_count": 51
        }
      ]
    },
    {
      "cell_type": "code",
      "metadata": {
        "id": "r-ovEboQIQ50",
        "colab_type": "code",
        "colab": {
          "base_uri": "https://localhost:8080/",
          "height": 267
        },
        "outputId": "3534acfc-e6c3-4428-8f6d-6e208cf70455"
      },
      "source": [
        "for i, label in enumerate(word_list):\n",
        "  W, WT = model.parameters()\n",
        "  x, y = W[0][i].item(), W[1][i].item()\n",
        "  plt.scatter(x, y)\n",
        "  plt.annotate(label, xy=(x, y), xytext=(5, 2), textcoords='offset points', ha='right', va='bottom')\n",
        "plt.show()"
      ],
      "execution_count": 58,
      "outputs": [
        {
          "output_type": "display_data",
          "data": {
            "image/png": "[encoded data removed]",
            "text/plain": [
              "<Figure size 432x288 with 1 Axes>"
            ]
          },
          "metadata": {
            "tags": [],
            "needs_background": "light"
          }
        }
      ]
    },
    {
      "cell_type": "code",
      "metadata": {
        "id": "rcesj4VbLpfw",
        "colab_type": "code",
        "colab": {}
      },
      "source": [
        ""
      ],
      "execution_count": null,
      "outputs": []
    }
  ]
}